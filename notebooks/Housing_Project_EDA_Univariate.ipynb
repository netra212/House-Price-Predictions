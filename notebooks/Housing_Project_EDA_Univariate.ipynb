{
  "cells": [
    {
      "cell_type": "code",
      "execution_count": null,
      "metadata": {
        "id": "y8gvOJZMJL37"
      },
      "outputs": [],
      "source": [
        "import pandas as pd\n",
        "import numpy as np\n",
        "import matplotlib.pyplot as plt\n",
        "import seaborn as sns"
      ]
    },
    {
      "cell_type": "code",
      "execution_count": null,
      "metadata": {
        "id": "VrtsB7-tNGj_"
      },
      "outputs": [],
      "source": [
        "pd.set_option(\"display.max_rows\", None)\n",
        "pd.set_option(\"display.max_columns\", None)\n",
        "pd.set_option(\"display.max_colwidth\", None)"
      ]
    },
    {
      "cell_type": "code",
      "execution_count": null,
      "metadata": {
        "id": "rnWfaLTHJTrN"
      },
      "outputs": [],
      "source": [
        "properties = pd.read_csv(\"/content/drive/MyDrive/DATASET_ML/gurgaon_properties_cleaned_v2.csv\")\n",
        "properties.head()"
      ]
    },
    {
      "cell_type": "code",
      "execution_count": null,
      "metadata": {
        "id": "jhNAl_YFJTty"
      },
      "outputs": [],
      "source": [
        "properties.shape"
      ]
    },
    {
      "cell_type": "code",
      "execution_count": null,
      "metadata": {
        "id": "nSTsXrOLJTv3"
      },
      "outputs": [],
      "source": [
        "properties.info()"
      ]
    },
    {
      "cell_type": "code",
      "execution_count": null,
      "metadata": {
        "id": "Nmw2hIDIJTyf"
      },
      "outputs": [],
      "source": [
        "properties.duplicated().sum()"
      ]
    },
    {
      "cell_type": "code",
      "execution_count": null,
      "metadata": {
        "id": "1lPOlV5MJT1D"
      },
      "outputs": [],
      "source": [
        "properties.drop_duplicates(inplace=True)"
      ]
    },
    {
      "cell_type": "code",
      "execution_count": null,
      "metadata": {
        "id": "UphZa5T4JT3J"
      },
      "outputs": [],
      "source": [
        "properties.head()"
      ]
    },
    {
      "cell_type": "code",
      "execution_count": null,
      "metadata": {
        "id": "FhBwlpqfJT5w"
      },
      "outputs": [],
      "source": [
        "properties.shape"
      ]
    },
    {
      "cell_type": "markdown",
      "metadata": {
        "id": "Z6xHbKkaN-cu"
      },
      "source": [
        "##**1.property_type**"
      ]
    },
    {
      "cell_type": "code",
      "execution_count": null,
      "metadata": {
        "id": "RQiTsoIHO6sC"
      },
      "outputs": [],
      "source": [
        "properties['property_type'].isnull().sum()"
      ]
    },
    {
      "cell_type": "code",
      "execution_count": null,
      "metadata": {
        "id": "-XNGyWkdJT8X"
      },
      "outputs": [],
      "source": [
        "properties['property_type'].value_counts()"
      ]
    },
    {
      "cell_type": "code",
      "execution_count": null,
      "metadata": {
        "id": "tI-0etaXJT-t"
      },
      "outputs": [],
      "source": [
        "properties['property_type'].value_counts().plot(kind='bar')"
      ]
    },
    {
      "cell_type": "markdown",
      "metadata": {
        "id": "9sHuC-nPOtTp"
      },
      "source": [
        "Observations\n",
        "\n",
        "    \n",
        "\n",
        "*   No missing values in the `property_type` column.\n",
        "*   Flat are majority in number i.e., 75% and houses are less in number i.e., 25%.\n",
        "\n",
        "Conclusion, `property_type` contains imbalance types of the values.\n",
        "\n"
      ]
    },
    {
      "cell_type": "markdown",
      "metadata": {
        "id": "WF-jST8mPpA-"
      },
      "source": [
        "## **2. society**"
      ]
    },
    {
      "cell_type": "code",
      "execution_count": null,
      "metadata": {
        "id": "hdE9EMeIJUBd"
      },
      "outputs": [],
      "source": [
        "properties['society'].isnull().sum()"
      ]
    },
    {
      "cell_type": "code",
      "execution_count": null,
      "metadata": {
        "id": "GYaA76UlPgsN"
      },
      "outputs": [],
      "source": [
        "properties['society'].value_counts()"
      ]
    },
    {
      "cell_type": "code",
      "execution_count": null,
      "metadata": {
        "id": "US0ysF8QPejg"
      },
      "outputs": [],
      "source": [
        "# Calculating the cumulative sum of the rows values except independent.\n",
        "properties[properties['society'] != 'independent']['society'].value_counts(normalize=True).cumsum().head(75)"
      ]
    },
    {
      "cell_type": "code",
      "execution_count": null,
      "metadata": {
        "id": "43CsW9pEPepR"
      },
      "outputs": [],
      "source": [
        "society_counts = properties['society'].value_counts()\n",
        "\n",
        "# Frequency distribution of societies.\n",
        "frequency_bins = {\n",
        "    \"Very High (>100)\": (society_counts > 100).sum(),\n",
        "    \"High (50-100)\": ((society_counts >= 50) & (society_counts <= 100)).sum(),\n",
        "    \"Average (10-49)\": ((society_counts >= 10) & (society_counts < 50)).sum(),\n",
        "    \"Low (2-9)\": ((society_counts > 1) & (society_counts < 10)).sum(),\n",
        "    \"Very Low (1)\": (society_counts == 1).sum()\n",
        "}\n",
        "frequency_bins"
      ]
    },
    {
      "cell_type": "code",
      "execution_count": null,
      "metadata": {
        "id": "syP-dBZ1Q7bJ"
      },
      "outputs": [],
      "source": [
        "# Checking the top 10 societies.\n",
        "properties[properties['society'] != 'independent']['society'].value_counts().head(10).plot(kind='bar')"
      ]
    },
    {
      "cell_type": "code",
      "execution_count": null,
      "metadata": {
        "id": "4iHg7HVnQ7ei"
      },
      "outputs": [],
      "source": [
        "properties['society'].isnull().sum()"
      ]
    },
    {
      "cell_type": "code",
      "execution_count": null,
      "metadata": {
        "id": "TslNgtOmQ7hI"
      },
      "outputs": [],
      "source": [
        "properties[properties['society'].isnull()]"
      ]
    },
    {
      "cell_type": "code",
      "execution_count": null,
      "metadata": {
        "id": "-GG1QqWmUssD"
      },
      "outputs": [],
      "source": [
        "properties['society'].value_counts().shape"
      ]
    },
    {
      "cell_type": "markdown",
      "metadata": {
        "id": "-6PmxBw9Ug3J"
      },
      "source": [
        "Observations.\n",
        "\n",
        "\n",
        "*  Around 13% properties comes under independent tag.\n",
        "*  There are altogether 675 socities.\n",
        "*  The top 75 societies have 50% of the properties and the rest 50% of the properties come under the remaining 600 societies.\n",
        "\n",
        "    > Very High (>100): Only 1 society has more than 100 listings.\n",
        "\n",
        "    > High (50-100): 2 societies have between 50 to 100 listings.\n",
        "\n",
        "    > Average (10-49): 92 societies fall in this range with 10 to 49 listings each.\n",
        "\n",
        "    > Low (2-9): 273 societies have between 2 to 9 listings.\n",
        "\n",
        "    > Very Low (1): A significant number, 308 societies, have only 1 listing.\n",
        "\n",
        "* Society column have one missing values.\n",
        "\n",
        "\n"
      ]
    },
    {
      "cell_type": "markdown",
      "metadata": {
        "id": "OGy3EWB9Vg8A"
      },
      "source": [
        "## **sector**"
      ]
    },
    {
      "cell_type": "code",
      "execution_count": null,
      "metadata": {
        "id": "0A_0aFTHQ7mZ"
      },
      "outputs": [],
      "source": [
        "# unique sectors.\n",
        "properties['sector'].value_counts().shape"
      ]
    },
    {
      "cell_type": "code",
      "execution_count": null,
      "metadata": {
        "id": "f8lAIg7TPesn"
      },
      "outputs": [],
      "source": [
        "# top 10 sectors.\n",
        "properties['sector'].value_counts().head(10).plot(kind='bar')"
      ]
    },
    {
      "cell_type": "code",
      "execution_count": null,
      "metadata": {
        "id": "296NCtEtVtab"
      },
      "outputs": [],
      "source": [
        "# Frequency distribution for the sectors.\n",
        "sector_counts = properties['sector'].value_counts()\n",
        "\n",
        "# Frequency distribution of societies.\n",
        "sector_frequency_bins = {\n",
        "    \"Very High (>100)\": (sector_counts > 100).sum(),\n",
        "    \"High (50-100)\": ((sector_counts >= 50) & (sector_counts <= 100)).sum(),\n",
        "    \"Average (10-49)\": ((sector_counts >= 10) & (sector_counts < 50)).sum(),\n",
        "    \"Low (2-9)\": ((sector_counts > 1) & (sector_counts < 10)).sum(),\n",
        "    \"Very Low (1)\": (sector_counts == 1).sum()\n",
        "}\n",
        "sector_frequency_bins"
      ]
    },
    {
      "cell_type": "code",
      "execution_count": null,
      "metadata": {
        "id": "-eHGA8F_WYMa"
      },
      "outputs": [],
      "source": [
        "properties['sector'].value_counts().shape"
      ]
    },
    {
      "cell_type": "markdown",
      "metadata": {
        "id": "k8XJr7AYWkKs"
      },
      "source": [
        "Observations.\n",
        "\n",
        "\n",
        "\n",
        "*   There are a total of 104 unique sectors in the dataset.\n",
        "*   Frequency distribution of sectors:\n",
        "\n",
        "    > Very High (>100): 3 sectors have more than 100 listings.\n",
        "\n",
        "    > High (50-100): 25 sectors have between 50 to 100 listings.\n",
        "\n",
        "    > Average (10-49): A majority, 60 sectors, fall in this range with 10 to 49 listings each.\n",
        "\n",
        "    > Low (2-9): 16 sectors have between 2 to 9 listings.\n",
        "\n",
        "    > Very Low (1): Interestingly, there are no sectors with only 1 listing.\n",
        "\n"
      ]
    },
    {
      "cell_type": "markdown",
      "metadata": {
        "id": "ITPzqeyRW238"
      },
      "source": [
        "## **Price.**"
      ]
    },
    {
      "cell_type": "code",
      "execution_count": null,
      "metadata": {
        "id": "L8-_xPw9W4lD"
      },
      "outputs": [],
      "source": [
        "properties['price'].isnull().sum()"
      ]
    },
    {
      "cell_type": "code",
      "execution_count": null,
      "metadata": {
        "id": "GMrBrg2QXPxb"
      },
      "outputs": [],
      "source": [
        "properties['price'].describe()"
      ]
    },
    {
      "cell_type": "code",
      "execution_count": null,
      "metadata": {
        "id": "Wh7hbHU4W4nn"
      },
      "outputs": [],
      "source": [
        "properties['price'].value_counts().head(10).plot(kind='bar')"
      ]
    },
    {
      "cell_type": "code",
      "execution_count": null,
      "metadata": {
        "id": "wA7hHNu1W4qe"
      },
      "outputs": [],
      "source": [
        "sns.histplot(properties['price'], kde=True, bins=60)"
      ]
    },
    {
      "cell_type": "code",
      "execution_count": null,
      "metadata": {
        "id": "DJOn07coW4tF"
      },
      "outputs": [],
      "source": [
        "sns.boxplot(x=properties['price'], color='lightgreen')\n",
        "plt.grid()"
      ]
    },
    {
      "cell_type": "markdown",
      "metadata": {
        "id": "stqHtdEdYa7m"
      },
      "source": [
        "**Observations:**\n",
        "\n",
        "\n",
        "**Descriptive Statistics:**\n",
        "\n",
        "\n",
        "*   Count: There are 3,660 non-missing price entries.\n",
        "*   Mean Price: The average price is approximately 2.53 crores.\n",
        "*   Median Price: The median (or 50th percentile) price is 1.52 crores.\n",
        "* Standard Deviation: The prices have a standard deviation of 2.98, indicating variability in the prices.\n",
        "*   Range: Prices range from a minimum of 0.07 crores to a maximum of 31.5 crores.\n",
        "*   IQR: The interquartile range (difference between 75th and 25th percentile) is from 0.95 crores to 2.75 crores.\n",
        "\n",
        "**Visualizations:**\n",
        "> Distribution: The histogram indicates that most properties are priced in the lower range (below 5 crores), with a few properties going beyond 10 crores.\n",
        "\n",
        "> Box Plot: The box plot showcases the spread of the data and potential outliers. Properties priced above approximately 10 crores might be considered outliers as they lie beyond the upper whisker of the box plot.\n",
        "\n",
        "* Missing Values: There are 17 missing values in the price column.\n",
        "\n"
      ]
    },
    {
      "cell_type": "code",
      "execution_count": null,
      "metadata": {
        "id": "e0t2-R6TX7KB"
      },
      "outputs": [],
      "source": [
        "# Calculating the Skewness and Kurtosis.\n",
        "skewness = properties['price'].skew()\n",
        "kurtosis = properties['price'].kurt()\n",
        "\n",
        "print(\"Skewness: \", skewness, \"\\t \", \"Kurtosis: \", kurtosis)"
      ]
    },
    {
      "cell_type": "markdown",
      "metadata": {
        "id": "8QBs92WQZ_IO"
      },
      "source": [
        "**Skewness:** The price distribution has a skewness of approximately 3.28, indicating a positive skew. This means that the distribution tail is skewed to the right, which aligns with our observation from the histogram where most properties have prices on the lower end with a few high-priced properties.\n",
        "\n",
        "**Kurtosis:** The kurtosis value is approximately 14.93. A kurtosis value greater than 3 indicates a distribution with heavier tails and more outliers compared to a normal distribution."
      ]
    },
    {
      "cell_type": "code",
      "execution_count": null,
      "metadata": {
        "id": "k4UgAEU6ZfZo"
      },
      "outputs": [],
      "source": [
        "# Quantile Analysis:\n",
        "quantiles = properties['price'].quantile([0.01, 0.05, 0.95, 0.99])\n",
        "quantiles"
      ]
    },
    {
      "cell_type": "markdown",
      "metadata": {
        "id": "g9bBP7c5czYn"
      },
      "source": [
        "**Quantile Analysis.**\n",
        "\n",
        "\n",
        "*   1% Quantile: Only 1% of properties are priced below 0.25 crores.\n",
        "*   5% Quantile: 5% of properties are priced below 0.37 crores.\n",
        "\n",
        "*   95% Quantile: 95% of properties are priced below 8.5 crores.\n",
        "\n",
        "*   99% Quantile: 99% of properties are priced below 15.26 crores, indicating that very few properties are priced above this value."
      ]
    },
    {
      "cell_type": "code",
      "execution_count": null,
      "metadata": {
        "id": "27X5pvQGaH9m"
      },
      "outputs": [],
      "source": [
        "# Identify Potential outliers using IQR method.\n",
        "Q1 = properties['price'].describe()['25%']\n",
        "Q3 = properties['price'].describe()['75%']\n",
        "\n",
        "IQR = Q3 - Q1\n",
        "IQR"
      ]
    },
    {
      "cell_type": "code",
      "execution_count": null,
      "metadata": {
        "id": "g-8dkOd0aIBR"
      },
      "outputs": [],
      "source": [
        "lower_bound = Q1 - 1.5 * IQR\n",
        "upper_bound = Q3 + 1.5 * IQR\n",
        "\n",
        "print(\" Lower bound: \", lower_bound, \"\\n\", \"Upper bound: \", upper_bound)"
      ]
    },
    {
      "cell_type": "code",
      "execution_count": null,
      "metadata": {
        "id": "Scph59TmaIEo"
      },
      "outputs": [],
      "source": [
        "outliers = properties[(properties['price'] < lower_bound) | ((properties['price'] > upper_bound))]\n",
        "outliers.shape"
      ]
    },
    {
      "cell_type": "code",
      "execution_count": null,
      "metadata": {
        "id": "IyQMqPIndvLo"
      },
      "outputs": [],
      "source": [
        "outliers['price'].describe()"
      ]
    },
    {
      "cell_type": "markdown",
      "metadata": {
        "id": "lfLROeDieH62"
      },
      "source": [
        "**Outliers Analysis (using IQR method):**\n",
        "\n",
        "\n",
        "\n",
        "*   Based on the IQR method, there are 425 properties considered as outliers.\n",
        "*   These outliers have an average price of approximately 9.24 crores.\n",
        "*   The range for these outliers is from 5.46 crores to 31.5 crores."
      ]
    },
    {
      "cell_type": "code",
      "execution_count": null,
      "metadata": {
        "id": "K2cX1f7RaIHg"
      },
      "outputs": [],
      "source": [
        "# price binning.\n",
        "bins = [0, 1, 2, 3, 5, 10, 20, 50]\n",
        "bin_labels = [\"0-1\", \"1-2\", \"2-3\", \"3-5\", \"5-10\", \"10-20\", \"20-50\"]\n",
        "pd.cut(properties['price'], bins=bins, labels=bin_labels, right=False).value_counts().sort_index().plot(kind='bar')"
      ]
    },
    {
      "cell_type": "markdown",
      "metadata": {
        "id": "t50jjyfze_Nf"
      },
      "source": [
        "**Observations**\n",
        "\n",
        "\n",
        "*   The majority of properties are priced in the \"1-2 crores\" and \"2-3 crores\" ranges.\n",
        "\n",
        "*   There's a significant drop in the number of properties priced above **\"5 crores.\"**\n",
        "\n"
      ]
    },
    {
      "cell_type": "code",
      "execution_count": null,
      "metadata": {
        "id": "C9rQ1vIjeTm6"
      },
      "outputs": [],
      "source": [
        "# Plotting the empirical cumulative distribution function for the price column.\n",
        "ecdf = properties['price'].value_counts().sort_index().cumsum() / len(properties['price'])\n",
        "plt.plot(ecdf.index, ecdf, marker='.', linestyle='none')\n",
        "plt.grid()"
      ]
    },
    {
      "cell_type": "code",
      "execution_count": null,
      "metadata": {
        "id": "gqCEUSdFeTpg"
      },
      "outputs": [],
      "source": [
        "plt.figure(figsize=(15, 6))\n",
        "\n",
        "# Distribution plot without log transformation\n",
        "plt.subplot(1, 2, 1)\n",
        "sns.histplot(properties['price'], kde=True, bins=50, color='skyblue')\n",
        "plt.title('Distribution of Prices (Original)')\n",
        "plt.xlabel('Price (in Crores)')\n",
        "plt.ylabel('Frequency')\n",
        "\n",
        "# Distribution plot with log transformation\n",
        "plt.subplot(1, 2, 2)\n",
        "sns.histplot(np.log1p(properties['price']), kde=True, bins=50, color='lightgreen')\n",
        "plt.title('Distribution of Prices (Log Transformed)')\n",
        "plt.xlabel('Log(Price)')\n",
        "plt.ylabel('Frequency')\n",
        "\n",
        "plt.tight_layout()\n",
        "plt.show()"
      ]
    },
    {
      "cell_type": "markdown",
      "metadata": {
        "id": "oVvNX2ggf5cn"
      },
      "source": [
        "np.log1p(x): This function computes the natural logarithm of 1+x. It's designed to provide more accurate results for values of x that are very close to zero.\n",
        "\n",
        "Using np.log1p helps in transforming the price column while ensuring that any value (including zero, if present) is handled appropriately. When we need to reverse the transformation, we can use np.expm1 which computes e^x-1"
      ]
    },
    {
      "cell_type": "code",
      "execution_count": null,
      "metadata": {
        "id": "zyqbMIVmeTsE"
      },
      "outputs": [],
      "source": [
        "skewness = np.log1p(properties['price']).skew()\n",
        "kurtosis = np.log1p(properties['price']).kurt()\n",
        "\n",
        "print(\"skewness: \", skewness, \"|\", \"kurtosis: \", kurtosis)"
      ]
    },
    {
      "cell_type": "code",
      "execution_count": null,
      "metadata": {
        "id": "6iFxEWgoeTu7"
      },
      "outputs": [],
      "source": [
        "plt.figure(figsize=(15, 6))\n",
        "\n",
        "# Distribution plot without log transformation\n",
        "plt.subplot(1, 2, 1)\n",
        "sns.boxplot(properties['price'], color='skyblue')\n",
        "plt.title('Distribution of Prices (Original)')\n",
        "plt.xlabel('Price (in Crores)')\n",
        "plt.ylabel('Frequency')\n",
        "\n",
        "# Distribution plot with log transformation\n",
        "plt.subplot(1, 2, 2)\n",
        "sns.boxplot(np.log1p(properties['price']), color='lightgreen')\n",
        "plt.title('Distribution of Prices (Log Transformed)')\n",
        "plt.xlabel('Log(Price)')\n",
        "plt.ylabel('Frequency')\n",
        "\n",
        "plt.tight_layout()\n",
        "plt.show()"
      ]
    },
    {
      "cell_type": "code",
      "execution_count": null,
      "metadata": {
        "id": "cdksaiuygbzy"
      },
      "outputs": [],
      "source": []
    },
    {
      "cell_type": "markdown",
      "metadata": {
        "id": "REiFB6A4hMk0"
      },
      "source": [
        "## **price_per_sqft**"
      ]
    },
    {
      "cell_type": "code",
      "execution_count": null,
      "metadata": {
        "id": "qv6rSahJgb4O"
      },
      "outputs": [],
      "source": [
        "properties['price_per_sqft'].isnull().sum()"
      ]
    },
    {
      "cell_type": "code",
      "execution_count": null,
      "metadata": {
        "id": "QdpKxhOqgb7t"
      },
      "outputs": [],
      "source": [
        "properties['price_per_sqft'].describe()"
      ]
    },
    {
      "cell_type": "code",
      "execution_count": null,
      "metadata": {
        "id": "EIstVTbWgb_P"
      },
      "outputs": [],
      "source": [
        "sns.histplot(properties['price_per_sqft'], bins=50, color='skyblue', kde=True)"
      ]
    },
    {
      "cell_type": "markdown",
      "metadata": {
        "id": "KcQ2nvwch4jA"
      },
      "source": [
        "Most properties have a **price_per_sqft** ranging between approximately **₹0** and **₹40,000**. There is a significant concentration in the lower range, with a few properties having exceptionally high **price_per_sqft**."
      ]
    },
    {
      "cell_type": "code",
      "execution_count": null,
      "metadata": {
        "id": "AjlWi1zrgcEj"
      },
      "outputs": [],
      "source": [
        "sns.boxplot(properties['price_per_sqft'], color='lightgreen')"
      ]
    },
    {
      "cell_type": "markdown",
      "metadata": {
        "id": "MkAVkDOgia7P"
      },
      "source": [
        "The box plot clearly shows several outliers, especially on the higher side. The interquartile range (IQR) is relatively compact, but there are many data points beyond the \"whiskers\" of the box plot, indicating potential outliers.\n",
        "\n",
        "**Observations.**\n",
        "\n",
        "\n",
        "\n",
        "*   Potential Outliers.\n",
        "*   Right Skewed.\n",
        "*   17 Missing values.\n",
        "\n"
      ]
    },
    {
      "cell_type": "markdown",
      "metadata": {
        "id": "EEI3nUu2ioXE"
      },
      "source": [
        "## **bedRoom.**"
      ]
    },
    {
      "cell_type": "code",
      "execution_count": null,
      "metadata": {
        "id": "ynVbEYprgcOq"
      },
      "outputs": [],
      "source": [
        "properties['bedRoom'].isnull().sum()"
      ]
    },
    {
      "cell_type": "code",
      "execution_count": null,
      "metadata": {
        "id": "rD4PGP2KeTxk"
      },
      "outputs": [],
      "source": [
        "properties['bedRoom'].value_counts()"
      ]
    },
    {
      "cell_type": "code",
      "execution_count": null,
      "metadata": {
        "id": "06edLO2xeT0a"
      },
      "outputs": [],
      "source": [
        "properties['bedRoom'].value_counts().sort_index().plot(kind='bar')"
      ]
    },
    {
      "cell_type": "code",
      "execution_count": null,
      "metadata": {
        "id": "3B4gK_2ceT3B"
      },
      "outputs": [],
      "source": [
        "properties['bedRoom'].value_counts(normalize=True).head().plot(kind='pie', autopct='%0.2f%%')"
      ]
    },
    {
      "cell_type": "markdown",
      "metadata": {
        "id": "Dgb8LnEJjhQV"
      },
      "source": [
        "## **bathroom**"
      ]
    },
    {
      "cell_type": "code",
      "execution_count": null,
      "metadata": {
        "id": "UI643mrGZfcQ"
      },
      "outputs": [],
      "source": [
        "properties['bathroom'].isnull().sum()"
      ]
    },
    {
      "cell_type": "code",
      "execution_count": null,
      "metadata": {
        "id": "7ibeDaaXjnRG"
      },
      "outputs": [],
      "source": [
        "properties['bathroom'].value_counts().sort_index().plot(kind='bar')"
      ]
    },
    {
      "cell_type": "code",
      "execution_count": null,
      "metadata": {
        "id": "Ts5CySOpjwO3"
      },
      "outputs": [],
      "source": [
        "properties['bathroom'].value_counts(normalize=True).head().plot(kind='pie', autopct=\"%0.2f%%\")"
      ]
    },
    {
      "cell_type": "markdown",
      "metadata": {
        "id": "TPfZSSjmkTB0"
      },
      "source": [
        "## **balcony.**"
      ]
    },
    {
      "cell_type": "code",
      "execution_count": null,
      "metadata": {
        "id": "4dLt8yR9kC4y"
      },
      "outputs": [],
      "source": [
        "properties['balcony'].isnull().sum()"
      ]
    },
    {
      "cell_type": "code",
      "execution_count": null,
      "metadata": {
        "id": "G73DrsCskC6u"
      },
      "outputs": [],
      "source": [
        "properties['balcony'].value_counts().plot(kind='bar')"
      ]
    },
    {
      "cell_type": "code",
      "execution_count": null,
      "metadata": {
        "id": "CHZTTq5hkC8_"
      },
      "outputs": [],
      "source": [
        "properties['balcony'].value_counts(normalize=True).head().plot(kind='pie',autopct='%0.2f%%')"
      ]
    },
    {
      "cell_type": "markdown",
      "metadata": {
        "id": "zzUuo5-SkhvZ"
      },
      "source": [
        "## **floorNum**"
      ]
    },
    {
      "cell_type": "code",
      "execution_count": null,
      "metadata": {
        "id": "FRF4kz_okDAJ"
      },
      "outputs": [],
      "source": [
        "properties.iloc[:,10:].head()"
      ]
    },
    {
      "cell_type": "code",
      "execution_count": null,
      "metadata": {
        "id": "IO_ifDvFkDCz"
      },
      "outputs": [],
      "source": [
        "properties['floorNum'].isnull().sum()"
      ]
    },
    {
      "cell_type": "code",
      "execution_count": null,
      "metadata": {
        "id": "lnSFQjgtkDGG"
      },
      "outputs": [],
      "source": [
        "properties['floorNum'].describe()"
      ]
    },
    {
      "cell_type": "code",
      "execution_count": null,
      "metadata": {
        "id": "0yHUpaAekxMO"
      },
      "outputs": [],
      "source": [
        "properties['floorNum'].value_counts().sort_index().plot(kind='bar')"
      ]
    },
    {
      "cell_type": "code",
      "execution_count": null,
      "metadata": {
        "id": "AE4rEwjtk1Wz"
      },
      "outputs": [],
      "source": [
        "sns.boxplot(properties['floorNum'], color='lightgreen')"
      ]
    },
    {
      "cell_type": "markdown",
      "metadata": {
        "id": "0VdQlxwplBWJ"
      },
      "source": [
        "**Observation.**\n",
        "\n",
        "*   The majority of the properties lie between the ground floor (0) and the 25th floor.\n",
        "*   Floors 1 to 4 are particularly common, with the 3rd floor being the most frequent.\n",
        "* There are a few properties located at higher floors, but their frequency is much lower.\n",
        "* The box plot reveals that the majority of the properties are concentrated around the lower floors. The interquartile range (IQR) lies between approximately the 2nd and 10th floors.\n",
        "* Data points beyond the \"whiskers\" of the box plot, especially on the higher side, indicate potential outliers."
      ]
    },
    {
      "cell_type": "markdown",
      "metadata": {
        "id": "CJSnZqvHlVHW"
      },
      "source": [
        "## **facing**"
      ]
    },
    {
      "cell_type": "code",
      "execution_count": null,
      "metadata": {
        "id": "dpDChK-ilS2F"
      },
      "outputs": [],
      "source": [
        "properties['facing'].isnull().sum()"
      ]
    },
    {
      "cell_type": "code",
      "execution_count": null,
      "metadata": {
        "id": "Kxj9Ufx8lS4p"
      },
      "outputs": [],
      "source": [
        "properties['facing'].fillna('NA',inplace=True)"
      ]
    },
    {
      "cell_type": "code",
      "execution_count": null,
      "metadata": {
        "id": "_vW6ExT0lS7A"
      },
      "outputs": [],
      "source": [
        "properties['facing'].value_counts()"
      ]
    },
    {
      "cell_type": "code",
      "execution_count": null,
      "metadata": {
        "id": "tKt6YTUvlS9c"
      },
      "outputs": [],
      "source": [
        "properties['facing'].isnull().sum()"
      ]
    },
    {
      "cell_type": "markdown",
      "metadata": {
        "id": "MgG2D8aLlhjX"
      },
      "source": [
        "## **agePossession**"
      ]
    },
    {
      "cell_type": "code",
      "execution_count": null,
      "metadata": {
        "id": "0Wi6-UrclS_1"
      },
      "outputs": [],
      "source": [
        "properties['agePossession'].isnull().sum()"
      ]
    },
    {
      "cell_type": "code",
      "execution_count": null,
      "metadata": {
        "id": "upihiiO5k9_i"
      },
      "outputs": [],
      "source": [
        "properties['agePossession'].value_counts()"
      ]
    },
    {
      "cell_type": "markdown",
      "metadata": {
        "id": "LCQ2fAp6lxex"
      },
      "source": [
        "## **areas**"
      ]
    },
    {
      "cell_type": "code",
      "execution_count": null,
      "metadata": {
        "id": "3vsdqYZilnxv"
      },
      "outputs": [],
      "source": [
        "# super built up area\n",
        "properties['super_built_up_area'].isnull().sum()"
      ]
    },
    {
      "cell_type": "code",
      "execution_count": null,
      "metadata": {
        "id": "2ijPQI_SlrgQ"
      },
      "outputs": [],
      "source": [
        "properties['super_built_up_area'].describe()"
      ]
    },
    {
      "cell_type": "code",
      "execution_count": null,
      "metadata": {
        "id": "hc1TgpxXlroW"
      },
      "outputs": [],
      "source": [
        "sns.histplot(properties['super_built_up_area'].dropna(), bins=50, color='skyblue', kde=True)"
      ]
    },
    {
      "cell_type": "code",
      "execution_count": null,
      "metadata": {
        "id": "oRPkLlDjlqnf"
      },
      "outputs": [],
      "source": [
        "sns.boxplot(properties['super_built_up_area'].dropna(), color='lightgreen')"
      ]
    },
    {
      "cell_type": "markdown",
      "metadata": {
        "id": "zf-l2oeumIcN"
      },
      "source": [
        "\n",
        "*   Most properties have a super built-up area ranging between approximately 1,000 sq.ft and 2,500 sq.ft.\n",
        "\n",
        "*   There are a few properties with a significantly larger area, leading to a right-skewed distribution.\n",
        "\n",
        "* The interquartile range (IQR) lies between roughly 1,480 sq.ft and 2,215 sq.ft, indicating that the middle 50% of the properties fall within this range.\n",
        "\n",
        "* There are several data points beyond the upper \"whisker\" of the box plot, indicating potential outliers. These are properties with an unusually large super built-up area."
      ]
    },
    {
      "cell_type": "code",
      "execution_count": null,
      "metadata": {
        "id": "bLCLAkTBlqrE"
      },
      "outputs": [],
      "source": [
        "# built up area\n",
        "properties['built_up_area'].isnull().sum()"
      ]
    },
    {
      "cell_type": "code",
      "execution_count": null,
      "metadata": {
        "id": "SjppYCpkmTQF"
      },
      "outputs": [],
      "source": [
        "properties['built_up_area'].describe()"
      ]
    },
    {
      "cell_type": "code",
      "execution_count": null,
      "metadata": {
        "id": "qlt6z06TmTTW"
      },
      "outputs": [],
      "source": [
        "sns.histplot(properties['built_up_area'].dropna(), bins=50, color='skyblue', kde=False)"
      ]
    },
    {
      "cell_type": "code",
      "execution_count": null,
      "metadata": {
        "id": "pK0_nw2lmTXL"
      },
      "outputs": [],
      "source": [
        "sns.boxplot(properties['built_up_area'].dropna(), color='lightgreen')"
      ]
    },
    {
      "cell_type": "markdown",
      "metadata": {
        "id": "2vRDgfmjmqo1"
      },
      "source": [
        "Observations:\n",
        "\n",
        "*  Most properties have a built-up area ranging roughly between 500 sq.ft and 3,500 sq.ft.\n",
        "*   There are very few properties with a much larger built-up area, leading to a highly right-skewed distribution.\n",
        "* The box plot confirms the presence of significant outliers on the higher side. The data's interquartile range (IQR) is relatively compact, but the \"whiskers\" of the box plot are stretched due to the outliers.\n",
        "\n",
        "The presence of extreme values, especially on the higher side, suggests that there may be outliers or data errors. This could also be due to some properties being exceptionally large, like a commercial complex or an entire building being listed."
      ]
    },
    {
      "cell_type": "code",
      "execution_count": null,
      "metadata": {
        "id": "PXyyrrdzmTay"
      },
      "outputs": [],
      "source": [
        "# carpet area\n",
        "properties['carpet_area'].isnull().sum()"
      ]
    },
    {
      "cell_type": "code",
      "execution_count": null,
      "metadata": {
        "id": "pEFULVIOmTc7"
      },
      "outputs": [],
      "source": [
        "properties['carpet_area'].describe()"
      ]
    },
    {
      "cell_type": "code",
      "execution_count": null,
      "metadata": {
        "id": "WLRH4LUqmThH"
      },
      "outputs": [],
      "source": [
        "sns.histplot(properties['carpet_area'].dropna(), bins=50, color='skyblue', kde=False)"
      ]
    },
    {
      "cell_type": "code",
      "execution_count": null,
      "metadata": {
        "id": "DGVJi_F7m8r6"
      },
      "outputs": [],
      "source": [
        "sns.boxplot(properties['carpet_area'].dropna(), color='lightgreen')"
      ]
    },
    {
      "cell_type": "code",
      "execution_count": null,
      "metadata": {
        "id": "SS8JCJv2m8un"
      },
      "outputs": [],
      "source": [
        "properties.iloc[:,16:]"
      ]
    },
    {
      "cell_type": "markdown",
      "metadata": {
        "id": "4rk0p1EpnaAA"
      },
      "source": [
        "## **additional rooms**"
      ]
    },
    {
      "cell_type": "code",
      "execution_count": null,
      "metadata": {
        "id": "qvIw3b_VnDPb"
      },
      "outputs": [],
      "source": [
        "plt.figure(figsize=(20, 12))\n",
        "\n",
        "# Create a subplot of pie charts for each room type\n",
        "for idx, room in enumerate(['study room','servant room','store room','pooja room','others'], 1):\n",
        "    ax = plt.subplot(2, 3, idx)\n",
        "    properties[room].value_counts().plot.pie(autopct='%1.1f%%', startangle=90, ax=ax)\n",
        "    plt.title(f'Distribution of {room.title()}')\n",
        "    plt.ylabel('')\n",
        "\n",
        "plt.tight_layout()\n",
        "plt.show()"
      ]
    },
    {
      "cell_type": "markdown",
      "metadata": {
        "id": "kXwJSLzMn6lu"
      },
      "source": [
        "## **furnishing_type**"
      ]
    },
    {
      "cell_type": "code",
      "execution_count": null,
      "metadata": {
        "id": "Q2s7-Hx4nDSR"
      },
      "outputs": [],
      "source": [
        "properties['furnishing_type'].value_counts()"
      ]
    },
    {
      "cell_type": "code",
      "execution_count": null,
      "metadata": {
        "id": "3fPNC-OdnDVt"
      },
      "outputs": [],
      "source": [
        "properties['furnishing_type'].value_counts().plot(kind='pie',autopct='%0.2f%%')"
      ]
    },
    {
      "cell_type": "markdown",
      "metadata": {
        "id": "7MJArnFroGsH"
      },
      "source": [
        "## **luxury score**"
      ]
    },
    {
      "cell_type": "code",
      "execution_count": null,
      "metadata": {
        "id": "PxGKK5CwnDYg"
      },
      "outputs": [],
      "source": [
        "properties['luxury_score'].isnull().sum()"
      ]
    },
    {
      "cell_type": "code",
      "execution_count": null,
      "metadata": {
        "id": "Vxzu5sNnm8xi"
      },
      "outputs": [],
      "source": [
        "properties['luxury_score'].describe()"
      ]
    },
    {
      "cell_type": "code",
      "execution_count": null,
      "metadata": {
        "id": "PbDVqMBNm80Q"
      },
      "outputs": [],
      "source": [
        "sns.histplot(properties['luxury_score'], bins=50, color='skyblue', kde=True)"
      ]
    },
    {
      "cell_type": "code",
      "execution_count": null,
      "metadata": {
        "id": "KQILtEQrm82r"
      },
      "outputs": [],
      "source": [
        "sns.boxplot(properties['luxury_score'], color='lightgreen')"
      ]
    },
    {
      "cell_type": "markdown",
      "metadata": {
        "id": "jvbFtyBvoVC5"
      },
      "source": [
        "The luxury score distribution has multiple peaks, suggesting a multi-modal distribution. There's a significant number of properties with lower luxury scores (around 0-50), and another peak is observed around the 110-130 range.\n",
        "\n",
        "The box plot reveals that the majority of the properties have luxury scores between approximately 30 and 110. The interquartile range (IQR) lies between these values."
      ]
    },
    {
      "cell_type": "code",
      "execution_count": null,
      "metadata": {
        "id": "OGaKuonkm86b"
      },
      "outputs": [],
      "source": []
    }
  ],
  "metadata": {
    "colab": {
      "private_outputs": true,
      "provenance": []
    },
    "kernelspec": {
      "display_name": "Python 3",
      "name": "python3"
    },
    "language_info": {
      "name": "python"
    }
  },
  "nbformat": 4,
  "nbformat_minor": 0
}
